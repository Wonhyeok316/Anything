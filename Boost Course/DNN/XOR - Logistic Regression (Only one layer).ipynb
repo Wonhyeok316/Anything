{
 "cells": [
  {
   "cell_type": "code",
   "execution_count": 36,
   "metadata": {},
   "outputs": [
    {
     "data": {
      "image/png": "[encoded data removed]",
      "text/plain": [
       "<Figure size 432x288 with 1 Axes>"
      ]
     },
     "metadata": {
      "needs_background": "light"
     },
     "output_type": "display_data"
    },
    {
     "name": "stdout",
     "output_type": "stream",
     "text": [
      "Iter : 0 Loss : 0.6931\n",
      "Iter : 100 Loss : 0.6931\n",
      "Iter : 200 Loss : 0.6931\n",
      "Iter : 300 Loss : 0.6931\n",
      "Iter : 400 Loss : 0.6931\n",
      "Iter : 500 Loss : 0.6931\n",
      "Iter : 600 Loss : 0.6931\n",
      "Iter : 700 Loss : 0.6931\n",
      "Iter : 800 Loss : 0.6931\n",
      "Iter : 900 Loss : 0.6931\n",
      "Iter : 1000 Loss : 0.6931\n",
      "Test accuracy : 0.5\n"
     ]
    }
   ],
   "source": [
    "import numpy as np\n",
    "import matplotlib.pyplot as plt\n",
    "import tensorflow as tf\n",
    "%matplotlib inline\n",
    "\n",
    "tf.random.set_seed(777)\n",
    "\n",
    "x_data = [[0, 0],\n",
    "         [0, 1],\n",
    "         [1, 0],\n",
    "         [1, 1]]\n",
    "y_data = [[0],\n",
    "         [1],\n",
    "         [1],\n",
    "         [0]]\n",
    "\n",
    "plt.scatter(x_data[0][0], x_data[0][1], c='red', marker='^')\n",
    "plt.scatter(x_data[1][0], x_data[1][1], c='blue', marker='o')\n",
    "plt.scatter(x_data[2][0], x_data[2][1], c='blue', marker='o')\n",
    "plt.scatter(x_data[3][0], x_data[3][1], c='red', marker='^')\n",
    "\n",
    "plt.show()\n",
    "\n",
    "dataset = tf.data.Dataset.from_tensor_slices((x_data, y_data)).batch(len(x_data))\n",
    "\n",
    "def preprocess_data(features, labels):\n",
    "    features = tf.cast(features, tf.float32)\n",
    "    labels = tf.cast(labels, tf.float32)\n",
    "    return features, labels\n",
    "\n",
    "W = tf.Variable(tf.zeros((2, 1)), name='weight')\n",
    "b = tf.Variable(tf.zeros((1, )), name='bias')\n",
    "\n",
    "def logistic_regression(features):\n",
    "    hypothesis = tf.divide(1., 1.+tf.exp(tf.matmul(features, W) + b))\n",
    "    return hypothesis\n",
    "\n",
    "def loss_fn(hypothesis, features, labels):\n",
    "    cost = -tf.reduce_mean(labels * tf.math.log(logistic_regression(features)) + (1 - labels) * tf.math.log(1 - hypothesis))\n",
    "    return cost\n",
    "\n",
    "optimizer = tf.keras.optimizers.SGD(learning_rate = 0.01)\n",
    "\n",
    "def accuracy_fn(hypothesis, labels):\n",
    "    predicted = tf.cast(hypothesis>0.5, dtype=tf.float32)\n",
    "    accuracy = tf.reduce_mean(tf.cast(tf.equal(predicted, labels), dtype=tf.float32))\n",
    "    return accuracy\n",
    "\n",
    "def grad(hypothesis, features, labels):\n",
    "    with tf.GradientTape() as tape:\n",
    "        loss_value = loss_fn(logistic_regression(features), features, labels)\n",
    "    return tape.gradient(loss_value, [W, b])\n",
    "\n",
    "EPOCHS = 1001\n",
    "for step in range(EPOCHS):\n",
    "    for features, labels in dataset:\n",
    "        features, labels = preprocess_data(features, labels)\n",
    "        grads = grad(logistic_regression(features), features, labels)\n",
    "        optimizer.apply_gradients(grads_and_vars=zip(grads, [W, b]))\n",
    "        if step%100==0:\n",
    "            print(\"Iter : {} Loss : {:.4f}\".format(step, loss_fn(logistic_regression(features), features, labels)))\n",
    "            \n",
    "x_data, y_data = preprocess_data(x_data, y_data)\n",
    "test_acc = accuracy_fn(logistic_regression(x_data),y_data)\n",
    "print(\"Test accuracy : {}\".format(test_acc))\n",
    "\n",
    "#결국 단일 Layer로는 해결 불가능"
   ]
  },
  {
   "cell_type": "code",
   "execution_count": null,
   "metadata": {},
   "outputs": [],
   "source": []
  }
 ],
 "metadata": {
  "kernelspec": {
   "display_name": "Python 3",
   "language": "python",
   "name": "python3"
  },
  "language_info": {
   "codemirror_mode": {
    "name": "ipython",
    "version": 3
   },
   "file_extension": ".py",
   "mimetype": "text/x-python",
   "name": "python",
   "nbconvert_exporter": "python",
   "pygments_lexer": "ipython3",
   "version": "3.7.3"
  }
 },
 "nbformat": 4,
 "nbformat_minor": 2
}
