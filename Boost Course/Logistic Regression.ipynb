{
 "cells": [
  {
   "cell_type": "code",
   "execution_count": 11,
   "metadata": {},
   "outputs": [
    {
     "data": {
      "image/png": "[encoded data removed]",
      "text/plain": [
       "<Figure size 432x288 with 1 Axes>"
      ]
     },
     "metadata": {
      "needs_background": "light"
     },
     "output_type": "display_data"
    }
   ],
   "source": [
    "import numpy as np\n",
    "import matplotlib.pyplot as plt\n",
    "import tensorflow as tf\n",
    "\n",
    "x_train=[[1., 2.], [2., 3.], [3., 1.], [4., 3.], [5., 3.], [6., 2.]]\n",
    "y_train = [[0.], [0.], [0.], [1.], [1.], [1.]]\n",
    "\n",
    "x_test=[[5., 2.]]\n",
    "y_test=[[1.]]\n",
    "\n",
    "x1 = [x[0] for x in x_train]\n",
    "x2 = [x[1] for x in x_train]\n",
    "\n",
    "colors = [int(y[0] % 3) for y in y_train]\n",
    "plt.scatter(x1, x2, c=colors, marker='^')\n",
    "plt.scatter(x_test[0][0], x_test[0][1], c='red')\n",
    "plt.xlabel('x1')\n",
    "plt.xlabel('x2')\n",
    "plt.show()"
   ]
  },
  {
   "cell_type": "code",
   "execution_count": 12,
   "metadata": {},
   "outputs": [],
   "source": [
    "dataset = tf.data.Dataset.from_tensor_slices((x_train, y_train))\n",
    "#x_train은 1 * 2꼴의 행렬, y_train은 1 * 1꼴의 행렬\n",
    "W = tf.Variable(tf.zeros([2, 1]), name='weight')\n",
    "b = tf.Variable(tf.zeros([1]), name='bias')"
   ]
  },
  {
   "cell_type": "code",
   "execution_count": 13,
   "metadata": {},
   "outputs": [],
   "source": [
    "def logistic_regression(features):\n",
    "    #sigmoid function\n",
    "    hypothesis = tf.divide(1., 1. + tf.exp(-tf.matmul(features, W) + b))\n",
    "    return hypothesis"
   ]
  },
  {
   "cell_type": "code",
   "execution_count": 14,
   "metadata": {},
   "outputs": [],
   "source": [
    "def loss_fn(hypothesis, labels):\n",
    "    cost = -tf.reduce_mean(labels * tf.math.log(hypothesis) + (1-labels)*tf.math.log(1-hypothesis))\n",
    "    return cost"
   ]
  },
  {
   "cell_type": "code",
   "execution_count": 15,
   "metadata": {},
   "outputs": [],
   "source": [
    "optimizer = tf.keras.optimizers.SGD(learning_rate=0.01)\n",
    "# SGD는 확률적 경사 하강법. 속도가 개선되지만 정확성은 떨어짐"
   ]
  },
  {
   "cell_type": "code",
   "execution_count": 16,
   "metadata": {},
   "outputs": [],
   "source": [
    "def accuracy_fn(hypothesis, labels):\n",
    "    predicted = tf.cast(hypothesis > 0.5, dtype=tf.float32)\n",
    "    \n",
    "    #tf.cast함수는 텐서를 새로운 형태로 캐스팅하는데 사용\n",
    "    # 0., 1.으로..\n",
    "    accuracy = tf.reduce_mean(tf.cast(tf.equal(predicted, labels), dtype=tf.int32))\n",
    "    return accuracy"
   ]
  },
  {
   "cell_type": "code",
   "execution_count": 19,
   "metadata": {},
   "outputs": [
    {
     "name": "stdout",
     "output_type": "stream",
     "text": [
      "Iter: 0, Loss : 0.6931\n",
      "Iter: 100, Loss : 0.5781\n",
      "Iter: 200, Loss : 0.5352\n",
      "Iter: 300, Loss : 0.5056\n",
      "Iter: 400, Loss : 0.4840\n",
      "Iter: 500, Loss : 0.4673\n",
      "Iter: 600, Loss : 0.4537\n",
      "Iter: 700, Loss : 0.4421\n",
      "Iter: 800, Loss : 0.4320\n",
      "Iter: 900, Loss : 0.4229\n",
      "Iter: 1000, Loss : 0.4145\n",
      "Test Result = [[1]]\n",
      "Testset Accuracy : 1.0000\n"
     ]
    }
   ],
   "source": [
    "def grad(features, labels):\n",
    "    with tf.GradientTape() as tape:\n",
    "        hypothesis = logistic_regression(features)\n",
    "        loss_value = loss_fn(hypothesis,labels)\n",
    "    return tape.gradient(loss_value, [W, b])\n",
    "\n",
    "for step in range(1001):\n",
    "    for features, labels in iter(dataset.batch(len(x_train))):\n",
    "        hypothesis = logistic_regression(features)\n",
    "        grads = grad(features, labels)\n",
    "        optimizer.apply_gradients(zip(grads, [W, b]))\n",
    "        if step % 100 == 0:\n",
    "            print(\"Iter: {}, Loss : {:.4f}\".format(step, loss_fn(hypothesis, labels)))\n",
    "            \n",
    "test_acc = accuracy_fn(logistic_regression(x_test), y_test)\n",
    "print(\"Test Result = {}\".format(tf.cast(logistic_regression(x_test)>0.5, dtype=tf.int32)))\n",
    "print(\"Testset Accuracy : {:.4f}\".format(test_acc))"
   ]
  },
  {
   "cell_type": "code",
   "execution_count": null,
   "metadata": {},
   "outputs": [],
   "source": []
  }
 ],
 "metadata": {
  "kernelspec": {
   "display_name": "Python 3",
   "language": "python",
   "name": "python3"
  },
  "language_info": {
   "codemirror_mode": {
    "name": "ipython",
    "version": 3
   },
   "file_extension": ".py",
   "mimetype": "text/x-python",
   "name": "python",
   "nbconvert_exporter": "python",
   "pygments_lexer": "ipython3",
   "version": "3.7.3"
  }
 },
 "nbformat": 4,
 "nbformat_minor": 2
}
