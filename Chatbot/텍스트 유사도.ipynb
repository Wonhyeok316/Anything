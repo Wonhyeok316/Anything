{
 "cells": [
  {
   "cell_type": "markdown",
   "metadata": {},
   "source": [
    "## n-gram"
   ]
  },
  {
   "cell_type": "code",
   "execution_count": 8,
   "metadata": {},
   "outputs": [
    {
     "name": "stdout",
     "output_type": "stream",
     "text": [
      "(('6월', '지수'), ('지수', '동생'), ('동생', '제안'), ('제안', '비누'), ('비누',))\n",
      "(('6월', '지수'), ('지수', '동생'), ('동생', '제안'), ('제안', '폼'), ('폼', '클렌징'), ('클렌징',))\n",
      "(('밥', '동생'), ('동생',))\n",
      "r1 :  0.6\n",
      "r2 :  0.0\n"
     ]
    }
   ],
   "source": [
    "from konlpy.tag import Komoran\n",
    "\n",
    "def word_ngram(bow, num_gram):\n",
    "    #bow는 명사를 담은 list\n",
    "    text = tuple(bow)\n",
    "    ngrams = [text[x:x + num_gram] for x in range(0, len(text))]\n",
    "    return tuple(ngrams)\n",
    "\n",
    "def similarity(doc1, doc2):\n",
    "    cnt = 0\n",
    "    for token in doc1:\n",
    "        if token in doc2:\n",
    "            cnt += 1\n",
    "    return cnt/len(doc1)\n",
    "\n",
    "sentence1 = '6월에 지수는 동생의 제안으로 비누를 샀다'\n",
    "sentence2 = '6월에 지수는 동생의 제안으로 폼클렌징을 샀다'\n",
    "sentence3 = '나는 맛있는 밥을 동생과 함께 먹었다'\n",
    "\n",
    "komoran = Komoran()\n",
    "bow1 = komoran.nouns(sentence1)\n",
    "bow2 = komoran.nouns(sentence2)\n",
    "bow3 = komoran.nouns(sentence3)\n",
    "\n",
    "\n",
    "\n",
    "doc1 = word_ngram(bow1, 2)\n",
    "doc2 = word_ngram(bow2, 2)\n",
    "doc3 = word_ngram(bow3, 2)\n",
    "#각 doc는 n_gram을 모두 담은 튜플\n",
    "\n",
    "print(doc1)\n",
    "print(doc2)\n",
    "print(doc3)\n",
    "\n",
    "r1 = similarity(doc1, doc2)\n",
    "r2 = similarity(doc3, doc1)\n",
    "\n",
    "print('r1 : ', r1)\n",
    "print('r2 : ', r2)"
   ]
  },
  {
   "cell_type": "markdown",
   "metadata": {},
   "source": [
    "## 코사인 유사도 계산"
   ]
  },
  {
   "cell_type": "code",
   "execution_count": 10,
   "metadata": {},
   "outputs": [
    {
     "name": "stdout",
     "output_type": "stream",
     "text": [
      "{'6월': 1, '지수': 1, '동생': 1, '제안': 1, '비누': 1, '폼': 0, '클렌징': 0, '밥': 0}\n",
      "{'6월': 1, '지수': 1, '동생': 1, '제안': 1, '비누': 0, '폼': 1, '클렌징': 1, '밥': 0}\n",
      "{'6월': 0, '지수': 0, '동생': 1, '제안': 0, '비누': 0, '폼': 0, '클렌징': 0, '밥': 1}\n",
      "r1 :  0.7302967433402214\n",
      "r2 :  0.31622776601683794\n"
     ]
    }
   ],
   "source": [
    "from konlpy.tag import Komoran\n",
    "import numpy as np\n",
    "from numpy import dot\n",
    "from numpy.linalg import norm\n",
    "\n",
    "#코사인 유사도 계산\n",
    "def cos_sim(v1, v2):\n",
    "    return dot(v1, v2) / (norm(v1)*norm(v2))\n",
    "\n",
    "# TDM 만들기\n",
    "def make_term_doc_mat(sentence_bow, word_dics):\n",
    "    #sentence_bow는 해당 문장의 명사 집합\n",
    "    freq_mat = {}\n",
    "    \n",
    "    # 사전에 있는 모든 단어에 대해 일단 0\n",
    "    for word in word_dics:\n",
    "        freq_mat[word] = 0\n",
    "        \n",
    "    # 해당 문장에 그 단어가 있으면 1\n",
    "    for word in word_dics:\n",
    "        if word in sentence_bow:\n",
    "            freq_mat[word] += 1\n",
    "            \n",
    "    return freq_mat\n",
    "\n",
    "def make_vector(tdm):\n",
    "    vec = []\n",
    "    for key in tdm:\n",
    "        vec.append(tdm[key])\n",
    "    return vec\n",
    "\n",
    "sentence1 = '6월에 지수는 동생의 제안으로 비누를 샀다'\n",
    "sentence2 = '6월에 지수는 동생의 제안으로 폼클렌징을 샀다'\n",
    "sentence3 = '나는 맛있는 밥을 동생과 함께 먹었다'\n",
    "\n",
    "komoran = Komoran()\n",
    "\n",
    "bow1 = komoran.nouns(sentence1)\n",
    "bow2 = komoran.nouns(sentence2)\n",
    "bow3 = komoran.nouns(sentence3)\n",
    "\n",
    "bow = bow1 + bow2 + bow3\n",
    "\n",
    "word_dics = []\n",
    "for token in bow:\n",
    "    if token not in word_dics:\n",
    "        word_dics.append(token)\n",
    "        \n",
    "freq_list1 = make_term_doc_mat(bow1, word_dics)\n",
    "freq_list2 = make_term_doc_mat(bow2, word_dics)\n",
    "freq_list3 = make_term_doc_mat(bow3, word_dics)\n",
    "\n",
    "print(freq_list1)\n",
    "print(freq_list2)\n",
    "print(freq_list3)\n",
    "\n",
    "doc1 = np.array(make_vector(freq_list1))\n",
    "doc2 = np.array(make_vector(freq_list2))\n",
    "doc3 = np.array(make_vector(freq_list3))\n",
    "\n",
    "r1 = cos_sim(doc1, doc2)\n",
    "r2 = cos_sim(doc3, doc1)\n",
    "print(\"r1 : \", r1)\n",
    "print(\"r2 : \", r2)"
   ]
  },
  {
   "cell_type": "code",
   "execution_count": null,
   "metadata": {},
   "outputs": [],
   "source": []
  }
 ],
 "metadata": {
  "kernelspec": {
   "display_name": "Python 3",
   "language": "python",
   "name": "python3"
  },
  "language_info": {
   "codemirror_mode": {
    "name": "ipython",
    "version": 3
   },
   "file_extension": ".py",
   "mimetype": "text/x-python",
   "name": "python",
   "nbconvert_exporter": "python",
   "pygments_lexer": "ipython3",
   "version": "3.7.3"
  }
 },
 "nbformat": 4,
 "nbformat_minor": 2
}
