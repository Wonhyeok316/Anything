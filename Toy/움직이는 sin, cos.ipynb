{
 "cells": [
  {
   "cell_type": "code",
   "execution_count": 4,
   "metadata": {},
   "outputs": [],
   "source": [
    "from drawnow import *\n",
    "import matplotlib.pyplot as plt\n",
    "import numpy as np\n",
    "%matplotlib tk"
   ]
  },
  {
   "cell_type": "code",
   "execution_count": 5,
   "metadata": {},
   "outputs": [],
   "source": [
    "fig = plt.figure(1)\n",
    "\n",
    "angles = []\n",
    "sines = []\n",
    "cosines = []\n",
    "\n",
    "def show_plot():\n",
    "    plt.plot(angles, sines, label = 'Sine')\n",
    "    plt.plot(angles, cosines, label = 'Cosine')\n",
    "    plt.legend()\n",
    "    plt.grid()\n",
    "    plt.xlabel('Angles [deg]')\n",
    "    plt.ylabel('Value')\n",
    "    \n",
    "for x in np.linspace(0, np.pi*2100):\n",
    "    angles = np.append(angles, x)\n",
    "    sines = np.append(sines, np.sin(x))\n",
    "    cosines = np.append(cosines, np.cos(x))\n",
    "    \n",
    "    drawnow(show_plot)"
   ]
  },
  {
   "cell_type": "code",
   "execution_count": null,
   "metadata": {},
   "outputs": [],
   "source": []
  }
 ],
 "metadata": {
  "kernelspec": {
   "display_name": "Python 3",
   "language": "python",
   "name": "python3"
  },
  "language_info": {
   "codemirror_mode": {
    "name": "ipython",
    "version": 3
   },
   "file_extension": ".py",
   "mimetype": "text/x-python",
   "name": "python",
   "nbconvert_exporter": "python",
   "pygments_lexer": "ipython3",
   "version": "3.7.3"
  }
 },
 "nbformat": 4,
 "nbformat_minor": 2
}
