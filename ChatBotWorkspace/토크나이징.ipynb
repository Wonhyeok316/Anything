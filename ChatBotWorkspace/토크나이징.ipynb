{
 "cells": [
  {
   "cell_type": "code",
   "execution_count": 1,
   "metadata": {},
   "outputs": [],
   "source": [
    "from konlpy.tag import Kkma\n"
   ]
  },
  {
   "cell_type": "code",
   "execution_count": 2,
   "metadata": {},
   "outputs": [],
   "source": [
    "kkma = Kkma()\n",
    "text = \"아버지가 방에 들어갑니다.\""
   ]
  },
  {
   "cell_type": "code",
   "execution_count": 3,
   "metadata": {},
   "outputs": [
    {
     "data": {
      "text/plain": [
       "['아버지', '가', '방', '에', '들어가', 'ㅂ니다', '.']"
      ]
     },
     "execution_count": 3,
     "metadata": {},
     "output_type": "execute_result"
    }
   ],
   "source": [
    "morphs = kkma.morphs(text)\n",
    "morphs"
   ]
  },
  {
   "cell_type": "code",
   "execution_count": 4,
   "metadata": {},
   "outputs": [
    {
     "data": {
      "text/plain": [
       "[('아버지', 'NNG'),\n",
       " ('가', 'JKS'),\n",
       " ('방', 'NNG'),\n",
       " ('에', 'JKM'),\n",
       " ('들어가', 'VV'),\n",
       " ('ㅂ니다', 'EFN'),\n",
       " ('.', 'SF')]"
      ]
     },
     "execution_count": 4,
     "metadata": {},
     "output_type": "execute_result"
    }
   ],
   "source": [
    "pos = kkma.pos(text)\n",
    "pos"
   ]
  },
  {
   "cell_type": "code",
   "execution_count": 5,
   "metadata": {},
   "outputs": [
    {
     "data": {
      "text/plain": [
       "['아버지', '방']"
      ]
     },
     "execution_count": 5,
     "metadata": {},
     "output_type": "execute_result"
    }
   ],
   "source": [
    "nouns = kkma.nouns(text)\n",
    "nouns"
   ]
  },
  {
   "cell_type": "code",
   "execution_count": 7,
   "metadata": {},
   "outputs": [
    {
     "data": {
      "text/plain": [
       "['오늘 날씨는 어 때요?', '내일은 덥다 던데.']"
      ]
     },
     "execution_count": 7,
     "metadata": {},
     "output_type": "execute_result"
    }
   ],
   "source": [
    "sentences = \"오늘 날씨는 어때요? 내일은 덥다던데.\"\n",
    "s = kkma.sentences(sentences)\n",
    "s"
   ]
  },
  {
   "cell_type": "code",
   "execution_count": 8,
   "metadata": {},
   "outputs": [],
   "source": [
    "from konlpy.tag import Komoran"
   ]
  },
  {
   "cell_type": "code",
   "execution_count": 12,
   "metadata": {},
   "outputs": [
    {
     "name": "stdout",
     "output_type": "stream",
     "text": [
      "['저', '를', '어떻', '게', '믿', '고', '이런', '제안', '을', '주시', '는', '건지', '요']\n",
      "[('저', 'NP'), ('를', 'JKO'), ('어떻', 'VA'), ('게', 'EC'), ('믿', 'VV'), ('고', 'EC'), ('이런', 'MM'), ('제안', 'NNG'), ('을', 'JKO'), ('주시', 'NNP'), ('는', 'JX'), ('건지', 'VV'), ('요', 'EC')]\n",
      "['제안', '주시']\n"
     ]
    }
   ],
   "source": [
    "komoran = Komoran()\n",
    "\n",
    "text = '저를 어떻게 믿고 이런 제안을 주시는 건지요'\n",
    "\n",
    "morphs = komoran.morphs(text)\n",
    "print(morphs)\n",
    "\n",
    "pos = komoran.pos(text)\n",
    "print(pos)\n",
    "# pos(phrase, flatten=True) POS tagger라 부르고, 인자로 입력한 문장에서 형태소를 추출한 뒤 품사 태깅을 함\n",
    "# 추출된 형태소와 그 형태소의 품사가 튜플 형태로 묶여 리스트로 반환된다.\n",
    "\n",
    "nouns = komoran.nouns(text)\n",
    "print(nouns)"
   ]
  },
  {
   "cell_type": "code",
   "execution_count": 18,
   "metadata": {},
   "outputs": [
    {
     "name": "stdout",
     "output_type": "stream",
     "text": [
      "['너', '방금', '뭐했냨', 'ㅋㅋㅋㅋ', '.']\n",
      "[('너', 'Noun'), ('방금', 'Noun'), ('뭐했냨', 'Noun'), ('ㅋㅋㅋㅋ', 'KoreanParticle'), ('.', 'Punctuation')]\n",
      "['너', '방금', '뭐했냨']\n",
      "['너 방금', '너 방금 뭐했냨', '방금', '뭐했냨']\n",
      "['너', '방금', '뭐', '했냐', 'ㅋㅋㅋ']\n"
     ]
    }
   ],
   "source": [
    "from konlpy.tag import Okt\n",
    "\n",
    "okt = Okt()\n",
    "\n",
    "text = \"너 방금 뭐했냨ㅋㅋㅋㅋ.\"\n",
    "\n",
    "morphs = okt.morphs(text)\n",
    "print(morphs)\n",
    "\n",
    "pos = okt.pos(text)\n",
    "print(pos)\n",
    "\n",
    "nouns = okt.nouns(text)\n",
    "print(nouns)\n",
    "\n",
    "text = \"너 방금 뭐했냨ㅋㅋㅋㅋ\"\n",
    "print(okt.phrases(text))\n",
    "print(okt.morphs(text, norm=True))"
   ]
  },
  {
   "cell_type": "code",
   "execution_count": 19,
   "metadata": {},
   "outputs": [
    {
     "name": "stdout",
     "output_type": "stream",
     "text": [
      "[('우리', 'NP'), ('챗봇은', 'NA'), ('엔', 'NNB'), ('엘', 'NNP'), ('피', 'NNG'), ('를', 'JKO'), ('좋아하', 'VV'), ('아', 'EC')]\n"
     ]
    }
   ],
   "source": [
    "from konlpy.tag import Komoran\n",
    "\n",
    "komoran = Komoran()\n",
    "text = \"우리 챗봇은 엔엘피를 좋아해\"\n",
    "pos = komoran.pos(text)\n",
    "print(pos)"
   ]
  },
  {
   "cell_type": "code",
   "execution_count": 20,
   "metadata": {},
   "outputs": [
    {
     "name": "stdout",
     "output_type": "stream",
     "text": [
      "[('우리', 'NP'), ('챗봇은', 'NA'), ('엔엘피', 'NNG'), ('를', 'JKO'), ('좋아하', 'VV'), ('아', 'EC')]\n"
     ]
    }
   ],
   "source": [
    "from konlpy.tag import Komoran\n",
    "\n",
    "komoran = Komoran(userdic='user_dic.tsv')\n",
    "text = \"우리 챗봇은 엔엘피를 좋아해\"\n",
    "pos = komoran.pos(text)\n",
    "print(pos)"
   ]
  },
  {
   "cell_type": "code",
   "execution_count": null,
   "metadata": {},
   "outputs": [],
   "source": []
  }
 ],
 "metadata": {
  "kernelspec": {
   "display_name": "Python 3",
   "language": "python",
   "name": "python3"
  },
  "language_info": {
   "codemirror_mode": {
    "name": "ipython",
    "version": 3
   },
   "file_extension": ".py",
   "mimetype": "text/x-python",
   "name": "python",
   "nbconvert_exporter": "python",
   "pygments_lexer": "ipython3",
   "version": "3.7.3"
  }
 },
 "nbformat": 4,
 "nbformat_minor": 2
}
